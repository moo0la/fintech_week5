{
  "nbformat": 4,
  "nbformat_minor": 5,
  "metadata": {
    "kernelspec": {
      "display_name": "Python 3",
      "language": "python",
      "name": "python3"
    },
    "language_info": {
      "codemirror_mode": {
        "name": "ipython",
        "version": 3
      },
      "file_extension": ".py",
      "mimetype": "text/x-python",
      "name": "python",
      "nbconvert_exporter": "python",
      "pygments_lexer": "ipython3",
      "version": "3.8.8"
    },
    "colab": {
      "name": "Copy of W5C2_template.ipynb",
      "provenance": [],
      "include_colab_link": true
    }
  },
  "cells": [
    {
      "cell_type": "markdown",
      "metadata": {
        "id": "view-in-github",
        "colab_type": "text"
      },
      "source": [
        "<a href=\"https://colab.research.google.com/github/moo0la/fintech_week5/blob/main/Copy_of_W5C2_template.ipynb\" target=\"_parent\"><img src=\"https://colab.research.google.com/assets/colab-badge.svg\" alt=\"Open In Colab\"/></a>"
      ]
    },
    {
      "cell_type": "code",
      "metadata": {
        "id": "340fc877-2a30-4131-a7fd-8d6ee02b3b7c",
        "colab": {
          "base_uri": "https://localhost:8080/"
        },
        "outputId": "f08a8009-c373-41f5-e7e5-e7640418ef3e"
      },
      "source": [
        "!pip install yfinance"
      ],
      "id": "340fc877-2a30-4131-a7fd-8d6ee02b3b7c",
      "execution_count": null,
      "outputs": [
        {
          "output_type": "stream",
          "name": "stdout",
          "text": [
            "Requirement already satisfied: yfinance in /usr/local/lib/python3.7/dist-packages (0.1.64)\n",
            "Requirement already satisfied: multitasking>=0.0.7 in /usr/local/lib/python3.7/dist-packages (from yfinance) (0.0.9)\n",
            "Requirement already satisfied: numpy>=1.15 in /usr/local/lib/python3.7/dist-packages (from yfinance) (1.19.5)\n",
            "Requirement already satisfied: lxml>=4.5.1 in /usr/local/lib/python3.7/dist-packages (from yfinance) (4.6.4)\n",
            "Requirement already satisfied: pandas>=0.24 in /usr/local/lib/python3.7/dist-packages (from yfinance) (1.1.5)\n",
            "Requirement already satisfied: requests>=2.20 in /usr/local/lib/python3.7/dist-packages (from yfinance) (2.23.0)\n",
            "Requirement already satisfied: python-dateutil>=2.7.3 in /usr/local/lib/python3.7/dist-packages (from pandas>=0.24->yfinance) (2.8.2)\n",
            "Requirement already satisfied: pytz>=2017.2 in /usr/local/lib/python3.7/dist-packages (from pandas>=0.24->yfinance) (2018.9)\n",
            "Requirement already satisfied: six>=1.5 in /usr/local/lib/python3.7/dist-packages (from python-dateutil>=2.7.3->pandas>=0.24->yfinance) (1.15.0)\n",
            "Requirement already satisfied: idna<3,>=2.5 in /usr/local/lib/python3.7/dist-packages (from requests>=2.20->yfinance) (2.10)\n",
            "Requirement already satisfied: urllib3!=1.25.0,!=1.25.1,<1.26,>=1.21.1 in /usr/local/lib/python3.7/dist-packages (from requests>=2.20->yfinance) (1.24.3)\n",
            "Requirement already satisfied: chardet<4,>=3.0.2 in /usr/local/lib/python3.7/dist-packages (from requests>=2.20->yfinance) (3.0.4)\n",
            "Requirement already satisfied: certifi>=2017.4.17 in /usr/local/lib/python3.7/dist-packages (from requests>=2.20->yfinance) (2021.10.8)\n"
          ]
        }
      ]
    },
    {
      "cell_type": "code",
      "metadata": {
        "id": "I_p1XgNtuq0m"
      },
      "source": [
        "pip install "
      ],
      "id": "I_p1XgNtuq0m",
      "execution_count": null,
      "outputs": []
    },
    {
      "cell_type": "code",
      "metadata": {
        "colab": {
          "base_uri": "https://localhost:8080/"
        },
        "id": "HuPZ57snsWGP",
        "outputId": "f7547ee7-6726-4b21-d015-b85df5dd564a"
      },
      "source": [
        "!pip install pandas-datareader\n"
      ],
      "id": "HuPZ57snsWGP",
      "execution_count": null,
      "outputs": [
        {
          "output_type": "stream",
          "name": "stdout",
          "text": [
            "Requirement already satisfied: pandas-datareader in /usr/local/lib/python3.7/dist-packages (0.9.0)\n",
            "Requirement already satisfied: lxml in /usr/local/lib/python3.7/dist-packages (from pandas-datareader) (4.6.4)\n",
            "Requirement already satisfied: requests>=2.19.0 in /usr/local/lib/python3.7/dist-packages (from pandas-datareader) (2.23.0)\n",
            "Requirement already satisfied: pandas>=0.23 in /usr/local/lib/python3.7/dist-packages (from pandas-datareader) (1.1.5)\n",
            "Requirement already satisfied: numpy>=1.15.4 in /usr/local/lib/python3.7/dist-packages (from pandas>=0.23->pandas-datareader) (1.19.5)\n",
            "Requirement already satisfied: python-dateutil>=2.7.3 in /usr/local/lib/python3.7/dist-packages (from pandas>=0.23->pandas-datareader) (2.8.2)\n",
            "Requirement already satisfied: pytz>=2017.2 in /usr/local/lib/python3.7/dist-packages (from pandas>=0.23->pandas-datareader) (2018.9)\n",
            "Requirement already satisfied: six>=1.5 in /usr/local/lib/python3.7/dist-packages (from python-dateutil>=2.7.3->pandas>=0.23->pandas-datareader) (1.15.0)\n",
            "Requirement already satisfied: certifi>=2017.4.17 in /usr/local/lib/python3.7/dist-packages (from requests>=2.19.0->pandas-datareader) (2021.10.8)\n",
            "Requirement already satisfied: urllib3!=1.25.0,!=1.25.1,<1.26,>=1.21.1 in /usr/local/lib/python3.7/dist-packages (from requests>=2.19.0->pandas-datareader) (1.24.3)\n",
            "Requirement already satisfied: idna<3,>=2.5 in /usr/local/lib/python3.7/dist-packages (from requests>=2.19.0->pandas-datareader) (2.10)\n",
            "Requirement already satisfied: chardet<4,>=3.0.2 in /usr/local/lib/python3.7/dist-packages (from requests>=2.19.0->pandas-datareader) (3.0.4)\n"
          ]
        }
      ]
    },
    {
      "cell_type": "code",
      "metadata": {
        "id": "f6a6b05c-3ea1-4497-a3a5-c65b9e775bea",
        "colab": {
          "base_uri": "https://localhost:8080/",
          "height": 17
        },
        "outputId": "12eeaad2-1022-4b8c-dcc5-82d6e4e0aac1"
      },
      "source": [
        "import yfinance\n",
        "import numpy as np\n",
        "import pandas as pd\n",
        "import pandas\n",
        "import yfinance as yf\n",
        "from pandas_datareader import data as pdr\n",
        "yf.pdr_override()\n",
        "\n",
        "import cufflinks as cf\n",
        "cf.set_config_file(offline=True)\n",
        "\n",
        "import warnings\n",
        "warnings.filterwarnings(\"ignore\")\n"
      ],
      "id": "f6a6b05c-3ea1-4497-a3a5-c65b9e775bea",
      "execution_count": null,
      "outputs": [
        {
          "output_type": "display_data",
          "data": {
            "text/html": [
              "        <script type=\"text/javascript\">\n",
              "        window.PlotlyConfig = {MathJaxConfig: 'local'};\n",
              "        if (window.MathJax) {MathJax.Hub.Config({SVG: {font: \"STIX-Web\"}});}\n",
              "        if (typeof require !== 'undefined') {\n",
              "        require.undef(\"plotly\");\n",
              "        requirejs.config({\n",
              "            paths: {\n",
              "                'plotly': ['https://cdn.plot.ly/plotly-latest.min']\n",
              "            }\n",
              "        });\n",
              "        require(['plotly'], function(Plotly) {\n",
              "            window._Plotly = Plotly;\n",
              "        });\n",
              "        }\n",
              "        </script>\n",
              "        "
            ]
          },
          "metadata": {}
        }
      ]
    },
    {
      "cell_type": "code",
      "metadata": {
        "id": "de4667a7-acd1-4a48-86e2-5fcae1441c7e",
        "colab": {
          "base_uri": "https://localhost:8080/",
          "height": 299
        },
        "outputId": "3903c470-6ad4-4106-c5e9-50964b7d211e"
      },
      "source": [
        "from ActMng import AccountManager"
      ],
      "id": "de4667a7-acd1-4a48-86e2-5fcae1441c7e",
      "execution_count": null,
      "outputs": [
        {
          "output_type": "error",
          "ename": "ModuleNotFoundError",
          "evalue": "ignored",
          "traceback": [
            "\u001b[0;31m---------------------------------------------------------------------------\u001b[0m",
            "\u001b[0;31mModuleNotFoundError\u001b[0m                       Traceback (most recent call last)",
            "\u001b[0;32m<ipython-input-20-0209c4c4e4f6>\u001b[0m in \u001b[0;36m<module>\u001b[0;34m()\u001b[0m\n\u001b[0;32m----> 1\u001b[0;31m \u001b[0;32mfrom\u001b[0m \u001b[0mActMng\u001b[0m \u001b[0;32mimport\u001b[0m \u001b[0mAccountManager\u001b[0m\u001b[0;34m\u001b[0m\u001b[0;34m\u001b[0m\u001b[0m\n\u001b[0m",
            "\u001b[0;31mModuleNotFoundError\u001b[0m: No module named 'ActMng'",
            "",
            "\u001b[0;31m---------------------------------------------------------------------------\u001b[0;32m\nNOTE: If your import is failing due to a missing package, you can\nmanually install dependencies using either !pip or !apt.\n\nTo view examples of installing some common dependencies, click the\n\"Open Examples\" button below.\n\u001b[0;31m---------------------------------------------------------------------------\u001b[0m\n"
          ],
          "errorDetails": {
            "actions": [
              {
                "action": "open_url",
                "actionText": "Open Examples",
                "url": "/notebooks/snippets/importing_libraries.ipynb"
              }
            ]
          }
        }
      ]
    },
    {
      "cell_type": "code",
      "metadata": {
        "id": "e9f4a9c8-9fd9-4e41-8690-28d5096ec77e"
      },
      "source": [
        "starting_capital = 100000\n",
        "allocation = 0.8\n",
        "\n",
        "symbol = 'SPY'\n",
        "\n",
        "long_trend_days = 12\n",
        "short_trend_days = 6"
      ],
      "id": "e9f4a9c8-9fd9-4e41-8690-28d5096ec77e",
      "execution_count": null,
      "outputs": []
    },
    {
      "cell_type": "code",
      "metadata": {
        "id": "b5488c39-a6f2-48d1-b559-32b15ffef889"
      },
      "source": [
        "def fetch_data(symbol:str='SPY', start_date:str='2020', end_date:str=None):\n",
        "    \n",
        "    if end_date is None:\n",
        "        end = pandas.Timestamp.now()\n",
        "    else:\n",
        "        end = end_date\n",
        "    \n",
        "    return pdr.get_data_yahoo(symbol, pandas.Timestamp(start_date), pandas.Timestamp(end))[['Open','Close']]\n",
        "df = fetch_data(symbol)"
      ],
      "id": "b5488c39-a6f2-48d1-b559-32b15ffef889",
      "execution_count": null,
      "outputs": []
    },
    {
      "cell_type": "code",
      "metadata": {
        "id": "34320fbf-0386-484d-a314-efe7be6c78fc"
      },
      "source": [
        "fast_trend = df.Open.rolling(window=short_trend_days).mean()\n",
        "slow_trend = df.Open.rolling(window=long_trend_days).mean()\n",
        "\n",
        "df['ma_fast'] = fast_trend\n",
        "df['ma_slow'] = slow_trend\n",
        "df[['Close','ma_fast','ma_slow']].iplot()"
      ],
      "id": "34320fbf-0386-484d-a314-efe7be6c78fc",
      "execution_count": null,
      "outputs": []
    },
    {
      "cell_type": "code",
      "metadata": {
        "id": "33ae9d4a-c394-4bb6-92d0-0947e4c5641b"
      },
      "source": [
        "df['trade_direction'] = np.sign(fast_trend-slow_trend)\n",
        "df"
      ],
      "id": "33ae9d4a-c394-4bb6-92d0-0947e4c5641b",
      "execution_count": null,
      "outputs": []
    },
    {
      "cell_type": "code",
      "metadata": {
        "id": "494c4fd6-ec2d-4d80-a67b-f7b98f0c388d"
      },
      "source": [
        "#Determine the direction of the moving average differences\n",
        "df_trades = df['trade_direction'].dropna().diff().dropna().apply(np.sign).astype('int8')\n",
        "df_trades = pandas.DataFrame(df_trades[df_trades !=0])\n",
        "\n",
        "#Label our intended trades\n",
        "df_trades['trade'] = df['trade_direction'].map({1:'Long',-1:'Short'})\n",
        "df['trades'] = df_trades['trade']\n"
      ],
      "id": "494c4fd6-ec2d-4d80-a67b-f7b98f0c388d",
      "execution_count": null,
      "outputs": []
    },
    {
      "cell_type": "code",
      "metadata": {
        "id": "2aab4ac5-7dec-4519-8aad-cde3cdbb7959"
      },
      "source": [
        "#Label our opening trade after removing our window period\n",
        "df['trades'].replace(pandas.np.NaN,'None',inplace=True)\n",
        "df = df.dropna()\n",
        "df['trades'].iloc[0]=('Long' if df['trade_direction'].iloc[0]==1.0 else 'Short')\n",
        "df"
      ],
      "id": "2aab4ac5-7dec-4519-8aad-cde3cdbb7959",
      "execution_count": null,
      "outputs": []
    },
    {
      "cell_type": "code",
      "metadata": {
        "id": "2c017987-4cbb-40e9-88cc-4934774d910c"
      },
      "source": [
        "# Our trading strategy implementation - feel free to brose ActMng.py if you are curious.\n",
        "trading_strategy = AccountManager(symbol=symbol,trades_df=df,starting_capital=starting_capital,allocation_amount=allocation)\n",
        "results = trading_strategy.run()"
      ],
      "id": "2c017987-4cbb-40e9-88cc-4934774d910c",
      "execution_count": null,
      "outputs": []
    },
    {
      "cell_type": "code",
      "metadata": {
        "id": "550ce205-2a4b-4515-ba35-6d0868767489"
      },
      "source": [
        "#Here we can see a day by day breakdown of the account\n",
        "results['result_df']"
      ],
      "id": "550ce205-2a4b-4515-ba35-6d0868767489",
      "execution_count": null,
      "outputs": []
    },
    {
      "cell_type": "code",
      "metadata": {
        "id": "4b4a860d-07a7-4ecc-bf63-6aa05f2cc34d"
      },
      "source": [
        "# Here are our simulated orders as we would submit to an API endpoint for algorthmic trading. \n",
        "results['broker_orders']"
      ],
      "id": "4b4a860d-07a7-4ecc-bf63-6aa05f2cc34d",
      "execution_count": null,
      "outputs": []
    },
    {
      "cell_type": "code",
      "metadata": {
        "id": "27a9f830-bdb6-4f34-aa45-a30f9158a2eb"
      },
      "source": [
        "#Todo:\n",
        "# Calculate the Absolute Return of our trend-following trading strategy\n",
        "absolute_return_tf = #Todo\n",
        "\n",
        "# Calculate the CAGR or our trend-following trading strategy\n",
        "CAGR_tf = #Todo\n",
        "\n",
        "# Calculate the IR (Sharpe without RF-rate) of our trend-following trading strategy\n",
        "information_ratio_tf = #Todo\n",
        "\n",
        "#Plot the equity curve (hint: use 'account_val')\n",
        "# Todo"
      ],
      "id": "27a9f830-bdb6-4f34-aa45-a30f9158a2eb",
      "execution_count": null,
      "outputs": []
    },
    {
      "cell_type": "code",
      "metadata": {
        "id": "6b3a25a4-4585-45e5-b468-47a87a2d48ff"
      },
      "source": [
        "#Todo:\n",
        "# Calculate the Absolute Return of a buy-and-hold strategy in the same period\n",
        "absolute_return_bh = #Todo\n",
        "# Calculate the CAGR or our trend-following trading strategy\n",
        "CAGR_bh = #Todo\n",
        "# Calculate the IR (Sharpe without RF-rate) of our trend-following trading strategy\n",
        "information_ratio_bh = #Todo\n",
        "\n",
        "#Plot the equity curve (hint: use 'close' returns and your initial capital value to generate an equity curve)\n",
        "# Todo"
      ],
      "id": "6b3a25a4-4585-45e5-b468-47a87a2d48ff",
      "execution_count": null,
      "outputs": []
    },
    {
      "cell_type": "code",
      "metadata": {
        "id": "422032a2-2266-4316-b196-cb55d5746b6e"
      },
      "source": [
        "#Todo - optional, below:\n",
        "# Copy any of the code from above to new cells below, and see how changing the symbol, dates and trend parameters changes the performance\n",
        "# Can you beat the reference implementation?"
      ],
      "id": "422032a2-2266-4316-b196-cb55d5746b6e",
      "execution_count": null,
      "outputs": []
    }
  ]
}